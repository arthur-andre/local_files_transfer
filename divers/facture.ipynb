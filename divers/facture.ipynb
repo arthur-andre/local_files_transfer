{
 "cells": [
  {
   "cell_type": "code",
   "execution_count": 1,
   "metadata": {},
   "outputs": [
    {
     "name": "stderr",
     "output_type": "stream",
     "text": [
      "CropBox missing from /Page, defaulting to MediaBox\n",
      "CropBox missing from /Page, defaulting to MediaBox\n"
     ]
    },
    {
     "name": "stdout",
     "output_type": "stream",
     "text": [
      "{'x0': 530.25, 'y0': 147.5, 'x1': 530.25, 'y1': 561.5, 'width': 0.0, 'height': 414.0, 'pts': [(530.25, 280.5), (530.25, 694.5)], 'linewidth': 0.75, 'stroke': True, 'fill': False, 'evenodd': False, 'stroking_color': (0, 0, 0), 'non_stroking_color': (1, 1, 1), 'mcid': None, 'tag': None, 'object_type': 'line', 'page_number': 1, 'stroking_pattern': None, 'non_stroking_pattern': None, 'path': [('m', (530.25, 280.5)), ('l', (530.25, 694.5))], 'dash': ([], 0), 'top': 280.5, 'bottom': 694.5, 'doctop': 280.5}\n",
      "{'x0': 561.75, 'y0': 147.5, 'x1': 561.75, 'y1': 561.5, 'width': 0.0, 'height': 414.0, 'pts': [(561.75, 280.5), (561.75, 694.5)], 'linewidth': 0.75, 'stroke': True, 'fill': False, 'evenodd': False, 'stroking_color': (0, 0, 0), 'non_stroking_color': (1, 1, 1), 'mcid': None, 'tag': None, 'object_type': 'line', 'page_number': 1, 'stroking_pattern': None, 'non_stroking_pattern': None, 'path': [('m', (561.75, 280.5)), ('l', (561.75, 694.5))], 'dash': ([], 0), 'top': 280.5, 'bottom': 694.5, 'doctop': 280.5}\n",
      "{'x0': 456.75, 'y0': 147.5, 'x1': 456.75, 'y1': 561.5, 'width': 0.0, 'height': 414.0, 'pts': [(456.75, 280.5), (456.75, 694.5)], 'linewidth': 0.75, 'stroke': True, 'fill': False, 'evenodd': False, 'stroking_color': (0, 0, 0), 'non_stroking_color': (1, 1, 1), 'mcid': None, 'tag': None, 'object_type': 'line', 'page_number': 1, 'stroking_pattern': None, 'non_stroking_pattern': None, 'path': [('m', (456.75, 280.5)), ('l', (456.75, 694.5))], 'dash': ([], 0), 'top': 280.5, 'bottom': 694.5, 'doctop': 280.5}\n",
      "{'x0': 528.0, 'y0': 147.5, 'x1': 528.0, 'y1': 561.5, 'width': 0.0, 'height': 414.0, 'pts': [(528.0, 280.5), (528.0, 694.5)], 'linewidth': 0.75, 'stroke': True, 'fill': False, 'evenodd': False, 'stroking_color': (0, 0, 0), 'non_stroking_color': (1, 1, 1), 'mcid': None, 'tag': None, 'object_type': 'line', 'page_number': 1, 'stroking_pattern': None, 'non_stroking_pattern': None, 'path': [('m', (528.0, 280.5)), ('l', (528.0, 694.5))], 'dash': ([], 0), 'top': 280.5, 'bottom': 694.5, 'doctop': 280.5}\n",
      "{'x0': 389.25, 'y0': 147.5, 'x1': 389.25, 'y1': 561.5, 'width': 0.0, 'height': 414.0, 'pts': [(389.25, 280.5), (389.25, 694.5)], 'linewidth': 0.75, 'stroke': True, 'fill': False, 'evenodd': False, 'stroking_color': (0, 0, 0), 'non_stroking_color': (1, 1, 1), 'mcid': None, 'tag': None, 'object_type': 'line', 'page_number': 1, 'stroking_pattern': None, 'non_stroking_pattern': None, 'path': [('m', (389.25, 280.5)), ('l', (389.25, 694.5))], 'dash': ([], 0), 'top': 280.5, 'bottom': 694.5, 'doctop': 280.5}\n",
      "{'x0': 454.5, 'y0': 147.5, 'x1': 454.5, 'y1': 561.5, 'width': 0.0, 'height': 414.0, 'pts': [(454.5, 280.5), (454.5, 694.5)], 'linewidth': 0.75, 'stroke': True, 'fill': False, 'evenodd': False, 'stroking_color': (0, 0, 0), 'non_stroking_color': (1, 1, 1), 'mcid': None, 'tag': None, 'object_type': 'line', 'page_number': 1, 'stroking_pattern': None, 'non_stroking_pattern': None, 'path': [('m', (454.5, 280.5)), ('l', (454.5, 694.5))], 'dash': ([], 0), 'top': 280.5, 'bottom': 694.5, 'doctop': 280.5}\n",
      "{'x0': 318.0, 'y0': 147.5, 'x1': 318.0, 'y1': 561.5, 'width': 0.0, 'height': 414.0, 'pts': [(318.0, 280.5), (318.0, 694.5)], 'linewidth': 0.75, 'stroke': True, 'fill': False, 'evenodd': False, 'stroking_color': (0, 0, 0), 'non_stroking_color': (1, 1, 1), 'mcid': None, 'tag': None, 'object_type': 'line', 'page_number': 1, 'stroking_pattern': None, 'non_stroking_pattern': None, 'path': [('m', (318.0, 280.5)), ('l', (318.0, 694.5))], 'dash': ([], 0), 'top': 280.5, 'bottom': 694.5, 'doctop': 280.5}\n",
      "{'x0': 386.25, 'y0': 147.5, 'x1': 386.25, 'y1': 561.5, 'width': 0.0, 'height': 414.0, 'pts': [(386.25, 280.5), (386.25, 694.5)], 'linewidth': 0.75, 'stroke': True, 'fill': False, 'evenodd': False, 'stroking_color': (0, 0, 0), 'non_stroking_color': (1, 1, 1), 'mcid': None, 'tag': None, 'object_type': 'line', 'page_number': 1, 'stroking_pattern': None, 'non_stroking_pattern': None, 'path': [('m', (386.25, 280.5)), ('l', (386.25, 694.5))], 'dash': ([], 0), 'top': 280.5, 'bottom': 694.5, 'doctop': 280.5}\n",
      "{'x0': 92.25, 'y0': 144.5, 'x1': 92.25, 'y1': 558.5, 'width': 0.0, 'height': 414.0, 'pts': [(92.25, 283.5), (92.25, 697.5)], 'linewidth': 0.75, 'stroke': True, 'fill': False, 'evenodd': False, 'stroking_color': (0, 0, 0), 'non_stroking_color': (1, 1, 1), 'mcid': None, 'tag': None, 'object_type': 'line', 'page_number': 1, 'stroking_pattern': None, 'non_stroking_pattern': None, 'path': [('m', (92.25, 283.5)), ('l', (92.25, 697.5))], 'dash': ([], 0), 'top': 283.5, 'bottom': 697.5, 'doctop': 283.5}\n",
      "{'x0': 315.75, 'y0': 144.5, 'x1': 315.75, 'y1': 558.5, 'width': 0.0, 'height': 414.0, 'pts': [(315.75, 283.5), (315.75, 697.5)], 'linewidth': 0.75, 'stroke': True, 'fill': False, 'evenodd': False, 'stroking_color': (0, 0, 0), 'non_stroking_color': (1, 1, 1), 'mcid': None, 'tag': None, 'object_type': 'line', 'page_number': 1, 'stroking_pattern': None, 'non_stroking_pattern': None, 'path': [('m', (315.75, 283.5)), ('l', (315.75, 697.5))], 'dash': ([], 0), 'top': 283.5, 'bottom': 697.5, 'doctop': 283.5}\n",
      "{'x0': 33.75, 'y0': 147.5, 'x1': 33.75, 'y1': 561.5, 'width': 0.0, 'height': 414.0, 'pts': [(33.75, 280.5), (33.75, 694.5)], 'linewidth': 0.75, 'stroke': True, 'fill': False, 'evenodd': False, 'stroking_color': (0, 0, 0), 'non_stroking_color': (1, 1, 1), 'mcid': None, 'tag': None, 'object_type': 'line', 'page_number': 1, 'stroking_pattern': None, 'non_stroking_pattern': None, 'path': [('m', (33.75, 280.5)), ('l', (33.75, 694.5))], 'dash': ([], 0), 'top': 280.5, 'bottom': 694.5, 'doctop': 280.5}\n",
      "{'x0': 90.75, 'y0': 147.5, 'x1': 90.75, 'y1': 561.5, 'width': 0.0, 'height': 414.0, 'pts': [(90.75, 280.5), (90.75, 694.5)], 'linewidth': 0.75, 'stroke': True, 'fill': False, 'evenodd': False, 'stroking_color': (0, 0, 0), 'non_stroking_color': (1, 1, 1), 'mcid': None, 'tag': None, 'object_type': 'line', 'page_number': 1, 'stroking_pattern': None, 'non_stroking_pattern': None, 'path': [('m', (90.75, 280.5)), ('l', (90.75, 694.5))], 'dash': ([], 0), 'top': 280.5, 'bottom': 694.5, 'doctop': 280.5}\n",
      "{'x0': 33.75, 'y0': 638.0, 'x1': 33.75, 'y1': 808.25, 'width': 0.0, 'height': 170.25, 'pts': [(33.75, 33.75), (33.75, 204.0)], 'linewidth': 0.75, 'stroke': True, 'fill': False, 'evenodd': False, 'stroking_color': (0, 0, 0), 'non_stroking_color': (1, 1, 1), 'mcid': None, 'tag': None, 'object_type': 'line', 'page_number': 1, 'stroking_pattern': None, 'non_stroking_pattern': None, 'path': [('m', (33.75, 33.75)), ('l', (33.75, 204.0))], 'dash': ([], 0), 'top': 33.75, 'bottom': 204.0, 'doctop': 33.75}\n",
      "{'x0': 294.75, 'y0': 638.0, 'x1': 294.75, 'y1': 808.25, 'width': 0.0, 'height': 170.25, 'pts': [(294.75, 33.75), (294.75, 204.0)], 'linewidth': 0.75, 'stroke': True, 'fill': False, 'evenodd': False, 'stroking_color': (0, 0, 0), 'non_stroking_color': (1, 1, 1), 'mcid': None, 'tag': None, 'object_type': 'line', 'page_number': 1, 'stroking_pattern': None, 'non_stroking_pattern': None, 'path': [('m', (294.75, 33.75)), ('l', (294.75, 204.0))], 'dash': ([], 0), 'top': 33.75, 'bottom': 204.0, 'doctop': 33.75}\n",
      "{'x0': 33.75, 'y0': 808.25, 'x1': 294.75, 'y1': 808.25, 'width': 261.0, 'height': 0.0, 'pts': [(33.75, 33.75), (294.75, 33.75)], 'linewidth': 0.75, 'stroke': True, 'fill': False, 'evenodd': False, 'stroking_color': (0, 0, 0), 'non_stroking_color': (1, 1, 1), 'mcid': None, 'tag': None, 'object_type': 'line', 'page_number': 1, 'stroking_pattern': None, 'non_stroking_pattern': None, 'path': [('m', (33.75, 33.75)), ('l', (294.75, 33.75))], 'dash': ([], 0), 'top': 33.75, 'bottom': 33.75, 'doctop': 33.75}\n",
      "{'x0': 33.75, 'y0': 638.0, 'x1': 294.75, 'y1': 638.0, 'width': 261.0, 'height': 0.0, 'pts': [(33.75, 204.0), (294.75, 204.0)], 'linewidth': 0.75, 'stroke': True, 'fill': False, 'evenodd': False, 'stroking_color': (0, 0, 0), 'non_stroking_color': (1, 1, 1), 'mcid': None, 'tag': None, 'object_type': 'line', 'page_number': 1, 'stroking_pattern': None, 'non_stroking_pattern': None, 'path': [('m', (33.75, 204.0)), ('l', (294.75, 204.0))], 'dash': ([], 0), 'top': 204.0, 'bottom': 204.0, 'doctop': 204.0}\n",
      "{'x0': 95.25, 'y0': 541.72, 'x1': 225.0, 'y1': 541.72, 'width': 129.75, 'height': 0.0, 'pts': [(95.25, 300.28), (225.0, 300.28)], 'linewidth': 0.55, 'stroke': True, 'fill': False, 'evenodd': False, 'stroking_color': (0, 0, 0), 'non_stroking_color': (0, 0, 0), 'mcid': None, 'tag': None, 'object_type': 'line', 'page_number': 1, 'stroking_pattern': None, 'non_stroking_pattern': None, 'path': [('m', (95.25, 300.28)), ('l', (225.0, 300.28))], 'dash': ([], 0), 'top': 300.28, 'bottom': 300.28, 'doctop': 300.28}\n",
      "{'x0': 36.75, 'y0': 76.25, 'x1': 36.75, 'y1': 129.5, 'width': 0.0, 'height': 53.25, 'pts': [(36.75, 712.5), (36.75, 765.75)], 'linewidth': 0.75, 'stroke': True, 'fill': False, 'evenodd': False, 'stroking_color': (0, 0, 0), 'non_stroking_color': (1, 1, 1), 'mcid': None, 'tag': None, 'object_type': 'line', 'page_number': 1, 'stroking_pattern': None, 'non_stroking_pattern': None, 'path': [('m', (36.75, 712.5)), ('l', (36.75, 765.75))], 'dash': ([], 0), 'top': 712.5, 'bottom': 765.75, 'doctop': 712.5}\n",
      "{'x0': 70.5, 'y0': 76.25, 'x1': 70.5, 'y1': 129.5, 'width': 0.0, 'height': 53.25, 'pts': [(70.5, 712.5), (70.5, 765.75)], 'linewidth': 0.75, 'stroke': True, 'fill': False, 'evenodd': False, 'stroking_color': (0, 0, 0), 'non_stroking_color': (1, 1, 1), 'mcid': None, 'tag': None, 'object_type': 'line', 'page_number': 1, 'stroking_pattern': None, 'non_stroking_pattern': None, 'path': [('m', (70.5, 712.5)), ('l', (70.5, 765.75))], 'dash': ([], 0), 'top': 712.5, 'bottom': 765.75, 'doctop': 712.5}\n",
      "{'x0': 73.5, 'y0': 76.25, 'x1': 73.5, 'y1': 129.5, 'width': 0.0, 'height': 53.25, 'pts': [(73.5, 712.5), (73.5, 765.75)], 'linewidth': 0.75, 'stroke': True, 'fill': False, 'evenodd': False, 'stroking_color': (0, 0, 0), 'non_stroking_color': (1, 1, 1), 'mcid': None, 'tag': None, 'object_type': 'line', 'page_number': 1, 'stroking_pattern': None, 'non_stroking_pattern': None, 'path': [('m', (73.5, 712.5)), ('l', (73.5, 765.75))], 'dash': ([], 0), 'top': 712.5, 'bottom': 765.75, 'doctop': 712.5}\n",
      "{'x0': 119.25, 'y0': 76.25, 'x1': 119.25, 'y1': 129.5, 'width': 0.0, 'height': 53.25, 'pts': [(119.25, 712.5), (119.25, 765.75)], 'linewidth': 0.75, 'stroke': True, 'fill': False, 'evenodd': False, 'stroking_color': (0, 0, 0), 'non_stroking_color': (1, 1, 1), 'mcid': None, 'tag': None, 'object_type': 'line', 'page_number': 1, 'stroking_pattern': None, 'non_stroking_pattern': None, 'path': [('m', (119.25, 712.5)), ('l', (119.25, 765.75))], 'dash': ([], 0), 'top': 712.5, 'bottom': 765.75, 'doctop': 712.5}\n",
      "{'x0': 121.5, 'y0': 76.25, 'x1': 121.5, 'y1': 129.5, 'width': 0.0, 'height': 53.25, 'pts': [(121.5, 712.5), (121.5, 765.75)], 'linewidth': 0.75, 'stroke': True, 'fill': False, 'evenodd': False, 'stroking_color': (0, 0, 0), 'non_stroking_color': (1, 1, 1), 'mcid': None, 'tag': None, 'object_type': 'line', 'page_number': 1, 'stroking_pattern': None, 'non_stroking_pattern': None, 'path': [('m', (121.5, 712.5)), ('l', (121.5, 765.75))], 'dash': ([], 0), 'top': 712.5, 'bottom': 765.75, 'doctop': 712.5}\n",
      "{'x0': 200.25, 'y0': 76.25, 'x1': 200.25, 'y1': 129.5, 'width': 0.0, 'height': 53.25, 'pts': [(200.25, 712.5), (200.25, 765.75)], 'linewidth': 0.75, 'stroke': True, 'fill': False, 'evenodd': False, 'stroking_color': (0, 0, 0), 'non_stroking_color': (1, 1, 1), 'mcid': None, 'tag': None, 'object_type': 'line', 'page_number': 1, 'stroking_pattern': None, 'non_stroking_pattern': None, 'path': [('m', (200.25, 712.5)), ('l', (200.25, 765.75))], 'dash': ([], 0), 'top': 712.5, 'bottom': 765.75, 'doctop': 712.5}\n",
      "{'x0': 203.25, 'y0': 76.25, 'x1': 203.25, 'y1': 129.5, 'width': 0.0, 'height': 53.25, 'pts': [(203.25, 712.5), (203.25, 765.75)], 'linewidth': 0.75, 'stroke': True, 'fill': False, 'evenodd': False, 'stroking_color': (0, 0, 0), 'non_stroking_color': (1, 1, 1), 'mcid': None, 'tag': None, 'object_type': 'line', 'page_number': 1, 'stroking_pattern': None, 'non_stroking_pattern': None, 'path': [('m', (203.25, 712.5)), ('l', (203.25, 765.75))], 'dash': ([], 0), 'top': 712.5, 'bottom': 765.75, 'doctop': 712.5}\n",
      "{'x0': 279.75, 'y0': 76.25, 'x1': 279.75, 'y1': 129.5, 'width': 0.0, 'height': 53.25, 'pts': [(279.75, 712.5), (279.75, 765.75)], 'linewidth': 0.75, 'stroke': True, 'fill': False, 'evenodd': False, 'stroking_color': (0, 0, 0), 'non_stroking_color': (1, 1, 1), 'mcid': None, 'tag': None, 'object_type': 'line', 'page_number': 1, 'stroking_pattern': None, 'non_stroking_pattern': None, 'path': [('m', (279.75, 712.5)), ('l', (279.75, 765.75))], 'dash': ([], 0), 'top': 712.5, 'bottom': 765.75, 'doctop': 712.5}\n",
      "{'x0': 283.5, 'y0': 76.25, 'x1': 283.5, 'y1': 129.5, 'width': 0.0, 'height': 53.25, 'pts': [(283.5, 712.5), (283.5, 765.75)], 'linewidth': 0.75, 'stroke': True, 'fill': False, 'evenodd': False, 'stroking_color': (0, 0, 0), 'non_stroking_color': (1, 1, 1), 'mcid': None, 'tag': None, 'object_type': 'line', 'page_number': 1, 'stroking_pattern': None, 'non_stroking_pattern': None, 'path': [('m', (283.5, 712.5)), ('l', (283.5, 765.75))], 'dash': ([], 0), 'top': 712.5, 'bottom': 765.75, 'doctop': 712.5}\n",
      "{'x0': 365.25, 'y0': 76.25, 'x1': 365.25, 'y1': 129.5, 'width': 0.0, 'height': 53.25, 'pts': [(365.25, 712.5), (365.25, 765.75)], 'linewidth': 0.75, 'stroke': True, 'fill': False, 'evenodd': False, 'stroking_color': (0, 0, 0), 'non_stroking_color': (1, 1, 1), 'mcid': None, 'tag': None, 'object_type': 'line', 'page_number': 1, 'stroking_pattern': None, 'non_stroking_pattern': None, 'path': [('m', (365.25, 712.5)), ('l', (365.25, 765.75))], 'dash': ([], 0), 'top': 712.5, 'bottom': 765.75, 'doctop': 712.5}\n",
      "{'x0': 36.75, 'y0': 32.75, 'x1': 36.75, 'y1': 50.0, 'width': 0.0, 'height': 17.25, 'pts': [(36.75, 792.0), (36.75, 809.25)], 'linewidth': 0.75, 'stroke': True, 'fill': False, 'evenodd': False, 'stroking_color': (0, 0, 0), 'non_stroking_color': (1, 1, 1), 'mcid': None, 'tag': None, 'object_type': 'line', 'page_number': 1, 'stroking_pattern': None, 'non_stroking_pattern': None, 'path': [('m', (36.75, 792.0)), ('l', (36.75, 809.25))], 'dash': ([], 0), 'top': 792.0, 'bottom': 809.25, 'doctop': 792.0}\n",
      "{'x0': 147.75, 'y0': 32.75, 'x1': 147.75, 'y1': 50.0, 'width': 0.0, 'height': 17.25, 'pts': [(147.75, 792.0), (147.75, 809.25)], 'linewidth': 0.75, 'stroke': True, 'fill': False, 'evenodd': False, 'stroking_color': (0, 0, 0), 'non_stroking_color': (1, 1, 1), 'mcid': None, 'tag': None, 'object_type': 'line', 'page_number': 1, 'stroking_pattern': None, 'non_stroking_pattern': None, 'path': [('m', (147.75, 792.0)), ('l', (147.75, 809.25))], 'dash': ([], 0), 'top': 792.0, 'bottom': 809.25, 'doctop': 792.0}\n",
      "{'x0': 153.0, 'y0': 32.75, 'x1': 153.0, 'y1': 50.0, 'width': 0.0, 'height': 17.25, 'pts': [(153.0, 792.0), (153.0, 809.25)], 'linewidth': 0.75, 'stroke': True, 'fill': False, 'evenodd': False, 'stroking_color': (0, 0, 0), 'non_stroking_color': (1, 1, 1), 'mcid': None, 'tag': None, 'object_type': 'line', 'page_number': 1, 'stroking_pattern': None, 'non_stroking_pattern': None, 'path': [('m', (153.0, 792.0)), ('l', (153.0, 809.25))], 'dash': ([], 0), 'top': 792.0, 'bottom': 809.25, 'doctop': 792.0}\n",
      "{'x0': 252.0, 'y0': 32.75, 'x1': 252.0, 'y1': 50.0, 'width': 0.0, 'height': 17.25, 'pts': [(252.0, 792.0), (252.0, 809.25)], 'linewidth': 0.75, 'stroke': True, 'fill': False, 'evenodd': False, 'stroking_color': (0, 0, 0), 'non_stroking_color': (1, 1, 1), 'mcid': None, 'tag': None, 'object_type': 'line', 'page_number': 1, 'stroking_pattern': None, 'non_stroking_pattern': None, 'path': [('m', (252.0, 792.0)), ('l', (252.0, 809.25))], 'dash': ([], 0), 'top': 792.0, 'bottom': 809.25, 'doctop': 792.0}\n",
      "{'x0': 255.0, 'y0': 32.75, 'x1': 255.0, 'y1': 50.0, 'width': 0.0, 'height': 17.25, 'pts': [(255.0, 792.0), (255.0, 809.25)], 'linewidth': 0.75, 'stroke': True, 'fill': False, 'evenodd': False, 'stroking_color': (0, 0, 0), 'non_stroking_color': (1, 1, 1), 'mcid': None, 'tag': None, 'object_type': 'line', 'page_number': 1, 'stroking_pattern': None, 'non_stroking_pattern': None, 'path': [('m', (255.0, 792.0)), ('l', (255.0, 809.25))], 'dash': ([], 0), 'top': 792.0, 'bottom': 809.25, 'doctop': 792.0}\n",
      "{'x0': 366.0, 'y0': 32.75, 'x1': 366.0, 'y1': 50.0, 'width': 0.0, 'height': 17.25, 'pts': [(366.0, 792.0), (366.0, 809.25)], 'linewidth': 0.75, 'stroke': True, 'fill': False, 'evenodd': False, 'stroking_color': (0, 0, 0), 'non_stroking_color': (1, 1, 1), 'mcid': None, 'tag': None, 'object_type': 'line', 'page_number': 1, 'stroking_pattern': None, 'non_stroking_pattern': None, 'path': [('m', (366.0, 792.0)), ('l', (366.0, 809.25))], 'dash': ([], 0), 'top': 792.0, 'bottom': 809.25, 'doctop': 792.0}\n"
     ]
    }
   ],
   "source": [
    "import pdfplumber\n",
    "\n",
    "with pdfplumber.open(\"facture_client.pdf\") as pdf:\n",
    "    page = pdf.pages[0]\n",
    "    lines = page.lines  # chaque ligne a x0, y0, x1, y1\n",
    "    for line in lines:\n",
    "        print(line)\n"
   ]
  },
  {
   "cell_type": "code",
   "execution_count": 3,
   "metadata": {},
   "outputs": [],
   "source": [
    "import os\n",
    "# import openai\n",
    "import pdfplumber\n",
    "import warnings\n",
    "import requests\n",
    "warnings.filterwarnings(\"ignore\", category=UserWarning, module=\"pdfplumber\")\n",
    "import re\n",
    "\n",
    "def extract_text_from_pdf(pdf_path):\n",
    "    \"\"\" Extracts text from a PDF file \"\"\"\n",
    "    with pdfplumber.open(pdf_path) as pdf:\n",
    "        full_text = \"\"\n",
    "        for page in pdf.pages:\n",
    "            full_text += page.extract_text() + \"\\n\\n\"\n",
    "    return full_text\n",
    "\n",
    "def enlever_caracteres_speciaux(texte):\n",
    "    \"\"\"\n",
    "    Enlève les caractères spéciaux d'un texte en conservant les lettres, chiffres et espaces.\n",
    "    \"\"\"\n",
    "    pattern = r'[^a-zA-Z0-9\\s€$.,:;!?%()\\-_/éèàùçâêîôûëïüöñ]'\n",
    "    texte_nettoye = re.sub(pattern, '', texte)\n",
    "    return texte_nettoye\n",
    "\n",
    "\n",
    "def convert_to_docling(text):\n",
    "    \"\"\" Converts raw text to a DOCLING structure \"\"\"\n",
    "    lines = text.split(\"\\n\")\n",
    "    docling = {\n",
    "        \"header\": [],\n",
    "        \"body\": [],\n",
    "        \"footer\": []\n",
    "    }\n",
    "\n",
    "    section = \"header\"\n",
    "\n",
    "    for line in lines:\n",
    "        if \"Total\" in line or \"TVA\" in line:\n",
    "            section = \"footer\"\n",
    "        elif any(keyword in line for keyword in [\"Article\", \"Quantité\", \"Prix\"]):\n",
    "            section = \"body\"\n",
    "        docling[section].append(line.strip())\n",
    "\n",
    "    return docling\n",
    "\n",
    "def docling_to_markdown(docling):\n",
    "    \"\"\" Converts DOCLING structure to Markdown \"\"\"\n",
    "    markdown = \"# Voici une facture, Réponds moi avec cette structure :\\n{{\\n    \\\"entreprise\\\": \\\"\\\",\\n    \\\"numero_facture_ou_piece\\\": \\\"\\\",\\n    \\\"date\\\": \\\"\\\",\\n    \\\"montant_TTC \\\": \\\"\\\",\\n  \\\"montant_TVA\\\": \\\"\\\",\\n  \\\"nom_client\\\": \\\"\\\",\\n  \\\"code_client\\\": \\\"\\\"\\n}}\\n\\n Voici le contenu OCR extrait :\\n\\n\"\n",
    "\n",
    "    if docling[\"header\"]:\n",
    "        markdown += \"## En-tête\\n\\n\" + \"\\n\".join(docling[\"header\"]) + \"\\n\\n\"\n",
    "\n",
    "    if docling[\"body\"]:\n",
    "        markdown += \"### Détails des articles\\n\\n\"\n",
    "        markdown += \"| Article | Quantité | Prix Unitaire | Total |\\n\"\n",
    "        markdown += \"|---------|----------|--------------|-------|\\n\"\n",
    "        for line in docling[\"body\"]:\n",
    "            parts = line.split()\n",
    "            if len(parts) >= 4:\n",
    "                markdown += f\"| {' '.join(parts[:-3])} | {parts[-3]} | {parts[-2]} | {parts[-1]} |\\n\"\n",
    "        markdown += \"\\n\"\n",
    "\n",
    "    if docling[\"footer\"]:\n",
    "        markdown += \"### Pied de page\\n\\n\" + \"\\n\".join(docling[\"footer\"]) + \"\\n\\n\"\n",
    "\n",
    "    return markdown\n",
    "\n",
    "def query_ollama(model, prompt):\n",
    "\n",
    "    # 7. Appel à Ollama\n",
    "    response = requests.post(\"http://localhost:11434/api/generate\", json={\n",
    "        \"model\": model,\n",
    "        \"prompt\": prompt,\n",
    "        \"stream\": False\n",
    "    })\n",
    "\n",
    "    return response.json()[\"response\"].strip()\n",
    "\n",
    "\n",
    "def main(pdf_path, model = 'mistral'):\n",
    "    text = extract_text_from_pdf(pdf_path)\n",
    "    text = enlever_caracteres_speciaux(text)\n",
    "    docling = convert_to_docling(text)\n",
    "    markdown = docling_to_markdown(docling)\n",
    "    print(markdown)\n",
    "    print(model, \"model\")\n",
    "    response = query_ollama(model,markdown)\n",
    "    print(\"LLM Response:\\n\", response)\n",
    "\n",
    "\n",
    "\n",
    "\n"
   ]
  },
  {
   "cell_type": "code",
   "execution_count": 4,
   "metadata": {},
   "outputs": [
    {
     "name": "stderr",
     "output_type": "stream",
     "text": [
      "CropBox missing from /Page, defaulting to MediaBox\n",
      "CropBox missing from /Page, defaulting to MediaBox\n"
     ]
    },
    {
     "name": "stdout",
     "output_type": "stream",
     "text": [
      "# Voici une facture, Réponds moi avec cette structure :\n",
      "{{\n",
      "    \"entreprise\": \"\",\n",
      "    \"numero_facture_ou_piece\": \"\",\n",
      "    \"date\": \"\",\n",
      "    \"montant_TTC \": \"\",\n",
      "  \"montant_TVA\": \"\",\n",
      "  \"nom_client\": \"\",\n",
      "  \"code_client\": \"\"\n",
      "}}\n",
      "\n",
      " Voici le contenu OCR extrait :\n",
      "\n",
      "## En-tête\n",
      "\n",
      "Facture N FA42401302\n",
      "Hopital privé Wallerstein\n",
      "14 boulevard JAVAL\n",
      "33740 ARES\n",
      "Date Numéro F Client Délai de règlement Mode de règlement\n",
      "30/09/2024 FA42401302 1 A403301860 A réception facture Chèque\n",
      "\n",
      "### Pied de page\n",
      "\n",
      "Article Désignation Quantité Prix Unitaire Montant TVA\n",
      "Facture davancement Juillet 2024\n",
      "IGPREST041 EIG Pack de démarrage 3,50 500,00 1 750,00 3\n",
      "- Suivi de Projets (réunions, suivi des chantiers...)\n",
      "Réalisations :\n",
      "- Finalisation création base\n",
      "- Gestion des Emplois\n",
      "- Régime Stagiaire\n",
      "- Préparation de limport des Salariés (via DSN)\n",
      "- MAJ des Taux AT  Médecine\n",
      "- Suivi de projet\n",
      "Intervenant : Florence ESTEVES\n",
      "Facture(s) en attente de paiement au 18/04/2025 :\n",
      "- Facture FA42401149 du 31/07/2024 de 600,00 €\n",
      "- Facture FA42401302 du 30/09/2024 de 2 100,00 €\n",
      "- Facture FA42401303 du 30/09/2024 de 1 080,00 €\n",
      "- Facture FG42401569 du 19/11/2024 de 950,00 €\n",
      "- Facture FG42401585 du 29/11/2024 de 950,00 €\n",
      "- Facture FG42401720 du 16/12/2024 de 950,00 €\n",
      "- Facture FA42401707 du 29/11/2024 de 1 200,00 €\n",
      "- Facture FA42401742 du 31/12/2024 de 1 200,00 €\n",
      "- Facture FA42401744 du 31/12/2024 de 3 240,00 €\n",
      "- Facture FA42500077 du 01/01/2025 de 3 672,00 €\n",
      "- Facture FA42500446 du 01/03/2025 de 3 672,00 €\n",
      "- Facture FA42500258 du 01/02/2025 de 3 672,00 €\n",
      "- Facture FA42500297 du 31/01/2025 de 3 360,00 €\n",
      "- Facture FG42500327 du 17/02/2025 de 400,00 €\n",
      "- Facture FA42500452 du 28/02/2025 de 3 240,00 €\n",
      "- Facture FHE2500317 du 01/01/2025 de 1 300,66 €\n",
      "- Facture FG42500460 du 24/03/2025 de 950,00 €\n",
      "- Facture FA42500588 du 31/03/2025 de 1 380,00 €\n",
      "- Facture FA42500540 du 10/04/2025 de 3 672,00 €\n",
      "- Facture FHE2500992 du 01/04/2025 de 880,66 €\n",
      "soit un total de 38 469,32 €\n",
      "Code Taux Montant HT T.V.A. Montant TTC Références à rappeler\n",
      "avec votre règlement\n",
      "3 20,00 1 750,00 350,00 2 100,00\n",
      "Etablissement :T140\n",
      "Client : A403301860\n",
      "Facture : FA42401302\n",
      "TOTAL ACOMPTE NET A PAYER Date : 30/09/2024\n",
      "2 100,00 0,00 2100,00 € Montant : 2100,00 €\n",
      "EIG sas - Tour Europlaza - 20 avenue André Prothin - 92927 Paris La Défense Cedex - SAS au Capital de 1.250.000 € - www.eig.fr - contacteig.fr\n",
      "Tél. 01.47.56.05.41 - Fax 01.47.56.05.99 - SIRET 382.879.625.00129 APE 5829C - TVA Intracommunautaire : FR01382879625\n",
      "\n",
      "\n",
      "\n",
      "\n",
      "mistral model\n",
      "LLM Response:\n",
      " {\n",
      "      \"entreprise\": \"Hopital privé Wallerstein\",\n",
      "      \"numero_facture_ou_piece\": \"FA42401302\",\n",
      "      \"date\": \"30/09/2024\",\n",
      "      \"montant_TTC \": \"2100,00 €\",\n",
      "      \"montant_TVA\": \"350,00 €\",\n",
      "      \"nom_client\": \"A403301860\",\n",
      "      \"code_client\": \"A403301860\"\n",
      "   }\n"
     ]
    }
   ],
   "source": [
    "pdf_path = \"facture_client.pdf\"  # Update with your PDF path\n",
    "main(pdf_path)"
   ]
  },
  {
   "cell_type": "code",
   "execution_count": 4,
   "metadata": {},
   "outputs": [
    {
     "name": "stderr",
     "output_type": "stream",
     "text": [
      "CropBox missing from /Page, defaulting to MediaBox\n",
      "CropBox missing from /Page, defaulting to MediaBox\n"
     ]
    },
    {
     "name": "stdout",
     "output_type": "stream",
     "text": [
      "LLM Response:\n",
      " {\n",
      "      \"entreprise\": \"ATHENA GLOBAL SERVICES\",\n",
      "      \"numero_facture_ou_piece\": \"FACTURE EIG\",\n",
      "      \"date\": \"23/04/2025\",\n",
      "      \"montant_TTC \": \"104,96 €\",\n",
      "      \"montant_TVA\": \"17,49 €\",\n",
      "      \"nom_client\": \"Votre identification TVA : FR01382879625\",\n",
      "      \"code_client\": \"A7577 2504005614\"\n",
      "   }\n"
     ]
    }
   ],
   "source": [
    "pdf_path = \"facture_fo_1.pdf\"  # Update with your PDF path\n",
    "main(pdf_path)"
   ]
  },
  {
   "cell_type": "code",
   "execution_count": 5,
   "metadata": {},
   "outputs": [
    {
     "name": "stderr",
     "output_type": "stream",
     "text": [
      "CropBox missing from /Page, defaulting to MediaBox\n"
     ]
    },
    {
     "name": "stderr",
     "output_type": "stream",
     "text": [
      "CropBox missing from /Page, defaulting to MediaBox\n"
     ]
    },
    {
     "name": "stdout",
     "output_type": "stream",
     "text": [
      "LLM Response:\n",
      " {{\n",
      "      \"entreprise\": \"CarolVooyages\",\n",
      "      \"numero_facture_ou_piece\": \"FACTURE N F-003 0019631\",\n",
      "      \"date\": \"23/04/2025\",\n",
      "      \"montant_TTC \": \"339.00\",\n",
      "      \"montant_TVA\": \"2.00\",\n",
      "      \"nom_client\": \"MR BERSON GAETAN\",\n",
      "      \"code_client\": \"1009976\"\n",
      "   }}\n"
     ]
    }
   ],
   "source": [
    "pdf_path = \"facture_fo_2.pdf\"  # Update with your PDF path\n",
    "main(pdf_path)"
   ]
  },
  {
   "cell_type": "code",
   "execution_count": 6,
   "metadata": {},
   "outputs": [
    {
     "name": "stderr",
     "output_type": "stream",
     "text": [
      "CropBox missing from /Page, defaulting to MediaBox\n"
     ]
    },
    {
     "name": "stderr",
     "output_type": "stream",
     "text": [
      "CropBox missing from /Page, defaulting to MediaBox\n"
     ]
    },
    {
     "name": "stdout",
     "output_type": "stream",
     "text": [
      "LLM Response:\n",
      " {\n",
      "    \"entreprise\": \"IMA PROTECT\",\n",
      "    \"numero_facture_ou_piece\": \"FACTURE\",\n",
      "    \"date\": \"01/05/25\",\n",
      "    \"montant_TTC \": \"46,44\",\n",
      "    \"montant_TVA\": \"7,74\",\n",
      "    \"nom_client\": \"BUON CATHERINE\",\n",
      "    \"code_client\": \"20153341043\"\n",
      "  }\n"
     ]
    }
   ],
   "source": [
    "pdf_path = \"facture_fo_3.pdf\"  # Update with your PDF path\n",
    "main(pdf_path)"
   ]
  },
  {
   "cell_type": "code",
   "execution_count": 7,
   "metadata": {},
   "outputs": [
    {
     "name": "stdout",
     "output_type": "stream",
     "text": [
      "LLM Response:\n",
      " {\n",
      "    \"entreprise\": \"Etix Everywhere Nord EIG SAS\",\n",
      "    \"numero_facture_ou_piece\": \"FCNO2504-04041\",\n",
      "    \"date\": \"01/04/2025\",\n",
      "    \"montant_TTC\": \"4530,00\",\n",
      "    \"montant_TVA\": \"755,00\",\n",
      "    \"nom_client\": \"CU2307-00168\",\n",
      "    \"code_client\": \"H19039_EL3\"\n",
      "   }\n"
     ]
    }
   ],
   "source": [
    "pdf_path = \"facture_fo_4.pdf\"  # Update with your PDF path\n",
    "main(pdf_path)"
   ]
  },
  {
   "cell_type": "code",
   "execution_count": 8,
   "metadata": {},
   "outputs": [
    {
     "name": "stderr",
     "output_type": "stream",
     "text": [
      "CropBox missing from /Page, defaulting to MediaBox\n",
      "CropBox missing from /Page, defaulting to MediaBox\n",
      "CropBox missing from /Page, defaulting to MediaBox\n",
      "CropBox missing from /Page, defaulting to MediaBox\n"
     ]
    },
    {
     "name": "stdout",
     "output_type": "stream",
     "text": [
      "LLM Response:\n",
      " {\n",
      "    \"entreprise\": \"DIAC LOCATION\",\n",
      "    \"numero_facture_ou_piece\": \"P50470642\",\n",
      "    \"date\": \"01/04/2025\",\n",
      "    \"montant_TTC\": \"778,21 EUR\",\n",
      "    \"montant_TVA\": \"129,69 EUR\",\n",
      "    \"nom_client\": \"241780520 FACTURE\",\n",
      "    \"code_client\": \"241780520\"\n",
      "}\n"
     ]
    }
   ],
   "source": [
    "pdf_path = \"facture_fo_5.pdf\"  # Update with your PDF path\n",
    "main(pdf_path)"
   ]
  },
  {
   "cell_type": "code",
   "execution_count": 9,
   "metadata": {},
   "outputs": [
    {
     "name": "stderr",
     "output_type": "stream",
     "text": [
      "CropBox missing from /Page, defaulting to MediaBox\n",
      "CropBox missing from /Page, defaulting to MediaBox\n"
     ]
    },
    {
     "name": "stdout",
     "output_type": "stream",
     "text": [
      "LLM Response:\n",
      " {{\n",
      "      \"entreprise\": \"Entreprise Non Identifiée\",\n",
      "      \"numero_facture_ou_piece\": \"Non Spécifié\",\n",
      "      \"date\": \"Date non identifiable\",\n",
      "      \"montant_TTC \": \"Montant TTC non spécifié\",\n",
      "      \"montant_TVA\": \"Montant TVA non spécifié\",\n",
      "      \"nom_client\": \"Client Non Identifié\",\n",
      "      \"code_client\": \"Code Client Non Spécifié\"\n",
      "   }}\n"
     ]
    }
   ],
   "source": [
    "pdf_path = \"facture_fo_6.pdf\"  # Update with your PDF path\n",
    "main(pdf_path)"
   ]
  },
  {
   "cell_type": "code",
   "execution_count": 4,
   "metadata": {},
   "outputs": [
    {
     "name": "stdout",
     "output_type": "stream",
     "text": [
      " Le numéro de la facture dans l'image est \"N° F.17320\" et le montant total est indiqué comme étant \"TOTAL FACTURE : 159,76 €\".\n"
     ]
    }
   ],
   "source": [
    "import base64\n",
    "import requests\n",
    "\n",
    "# Encode l'image en base64\n",
    "with open(\"facture.png\", \"rb\") as image_file:\n",
    "    image_base64 = base64.b64encode(image_file.read()).decode(\"utf-8\")\n",
    "\n",
    "# Requête vers Ollama avec image\n",
    "response = requests.post(\"http://localhost:11434/api/generate\", json={\n",
    "    \"model\": \"llava:13b\",  # ou autre modèle multimodal\n",
    "    \"prompt\": \"Donne moi le numéro de facture et le montant total\",\n",
    "    \"images\": [image_base64],  # liste de chaînes base64\n",
    "    \"stream\": False\n",
    "})\n",
    "\n",
    "print(response.json()[\"response\"])"
   ]
  },
  {
   "cell_type": "code",
   "execution_count": null,
   "metadata": {},
   "outputs": [
    {
     "name": "stderr",
     "output_type": "stream",
     "text": [
      "CropBox missing from /Page, defaulting to MediaBox\n",
      "CropBox missing from /Page, defaulting to MediaBox\n"
     ]
    },
    {
     "name": "stdout",
     "output_type": "stream",
     "text": [
      "llama3:70b model\n"
     ]
    },
    {
     "ename": "",
     "evalue": "",
     "output_type": "error",
     "traceback": [
      "\u001b[1;31mThe Kernel crashed while executing code in the current cell or a previous cell. \n",
      "\u001b[1;31mPlease review the code in the cell(s) to identify a possible cause of the failure. \n",
      "\u001b[1;31mClick <a href='https://aka.ms/vscodeJupyterKernelCrash'>here</a> for more info. \n",
      "\u001b[1;31mView Jupyter <a href='command:jupyter.viewOutput'>log</a> for further details."
     ]
    }
   ],
   "source": [
    "pdf_path = \"facture_client.pdf\"  # Update with your PDF path\n",
    "main(pdf_path, model = 'llama3:70b')"
   ]
  },
  {
   "cell_type": "code",
   "execution_count": 4,
   "metadata": {},
   "outputs": [
    {
     "name": "stderr",
     "output_type": "stream",
     "text": [
      "CropBox missing from /Page, defaulting to MediaBox\n",
      "CropBox missing from /Page, defaulting to MediaBox\n"
     ]
    },
    {
     "name": "stdout",
     "output_type": "stream",
     "text": [
      "phi3:mini model\n",
      "LLM Response:\n",
      " {{\n",
      "    \"entreprise\": \"Hopital privé Wallerstein\",\n",
      "    \"numero_facture_ou_piece\": \"FA42401302\",\n",
      "    \"date\": \"30/09/2024\",\n",
      "    \"montant_TTC \": \"38 469,32 €\",\n",
      "    \"montant_TVA\": \"2 100,00 €\" ,\n",
      "    \"nom_client\": \"\",\n",
      "    \"code_client\": \"\"\n",
      "}}\n"
     ]
    }
   ],
   "source": [
    "pdf_path = \"facture_client.pdf\"  # Update with your PDF path\n",
    "main(pdf_path, model = 'phi3:mini')"
   ]
  },
  {
   "cell_type": "code",
   "execution_count": 5,
   "metadata": {},
   "outputs": [
    {
     "name": "stderr",
     "output_type": "stream",
     "text": [
      "CropBox missing from /Page, defaulting to MediaBox\n",
      "CropBox missing from /Page, defaulting to MediaBox\n"
     ]
    },
    {
     "name": "stdout",
     "output_type": "stream",
     "text": [
      "mixtral:8x7b model\n",
      "LLM Response:\n",
      " ici est la structure avec les informations extraites de l'OCR :\n",
      "\n",
      "```json\n",
      "{\n",
      "    \"entreprise\": \"Hopital privé Wallerstein\",\n",
      "    \"numero_facture_ou_piece\": \"FA42401302\",\n",
      "    \"date\": \"30/09/2024\",\n",
      "    \"montant_TTC \": \"2100.00\",\n",
      "    \"montant_TVA\": \"0.00\",\n",
      "    \"nom_client\": \"\",\n",
      "    \"code_client\": \"A403301860\"\n",
      "}\n",
      "```\n",
      "\n",
      "Note : Les informations sur le nom du client sont manquantes dans la facture fournie.\n"
     ]
    }
   ],
   "source": [
    "pdf_path = \"facture_client.pdf\"  # Update with your PDF path\n",
    "main(pdf_path, model = 'mixtral:8x7b')"
   ]
  },
  {
   "cell_type": "code",
   "execution_count": null,
   "metadata": {},
   "outputs": [],
   "source": []
  }
 ],
 "metadata": {
  "kernelspec": {
   "display_name": "eig",
   "language": "python",
   "name": "python3"
  },
  "language_info": {
   "codemirror_mode": {
    "name": "ipython",
    "version": 3
   },
   "file_extension": ".py",
   "mimetype": "text/x-python",
   "name": "python",
   "nbconvert_exporter": "python",
   "pygments_lexer": "ipython3",
   "version": "3.10.16"
  }
 },
 "nbformat": 4,
 "nbformat_minor": 2
}

{
 "cells": [
  {
   "cell_type": "code",
   "execution_count": null,
   "id": "9e7f2a2c",
   "metadata": {},
   "outputs": [
    {
     "name": "stdout",
     "output_type": "stream",
     "text": [
      "CREATE TABLE \"contrat\" (\n",
      "\"id_contrat\" INTEGER,\n",
      "  \"id_personne\" INTEGER,\n",
      "  \"matricule_personne\" INTEGER,\n",
      "  \"numero_full\" TEXT,\n",
      "  \"date_embauche\" TIMESTAMP,\n",
      "  \"rupture_contrat\" INTEGER,\n",
      "  \"date_rupture_contrat\" TIMESTAMP,\n",
      "  \"emploi\" TEXT\n",
      ")\n",
      "CREATE TABLE \"formule\" (\n",
      "\"id_formule\" INTEGER,\n",
      "  \"id_rubrique\" INTEGER,\n",
      "  \"nom_alias\" TEXT,\n",
      "  \"designation\" TEXT\n",
      ")\n",
      "CREATE TABLE \"historique\" (\n",
      "\"id_personne\" INTEGER,\n",
      "  \"id_contrat\" INTEGER,\n",
      "  \"annee\" INTEGER,\n",
      "  \"mois\" INTEGER,\n",
      "  \"id_rubrique\" INTEGER,\n",
      "  \"id_formule\" INTEGER,\n",
      "  \"etablissement\" TEXT,\n",
      "  \"section\" TEXT,\n",
      "  \"valeur\" REAL\n",
      ")\n",
      "CREATE TABLE \"personne\" (\n",
      "\"id_personne\" INTEGER,\n",
      "  \"matricule_personne\" INTEGER,\n",
      "  \"nom\" TEXT,\n",
      "  \"prenom\" TEXT,\n",
      "  \"sexe\" INTEGER,\n",
      "  \"date_naissance\" TEXT,\n",
      "  \"code_postal\" TEXT,\n",
      "  \"ville\" TEXT,\n",
      "  \"type_salarie\" INTEGER\n",
      ")\n",
      "CREATE TABLE \"rubrique\" (\n",
      "\"id_rubrique\" INTEGER,\n",
      "  \"nom_alias\" TEXT,\n",
      "  \"designation\" TEXT,\n",
      "  \"nom_classe_designation\" TEXT\n",
      ")\n"
     ]
    }
   ],
   "source": [
    "import sqlite3\n",
    "\n",
    "conn = sqlite3.connect(\"historique1_sqlite.db\")\n",
    "cursor = conn.cursor()\n",
    "\n",
    "cursor.execute(\"SELECT sql FROM sqlite_master WHERE type='table'\")\n",
    "ddl_statements = [row[0] for row in cursor.fetchall()]\n",
    "for stmt in ddl_statements:\n",
    "    print(stmt)\n",
    "\n"
   ]
  },
  {
   "cell_type": "code",
   "execution_count": 2,
   "id": "08a739bc",
   "metadata": {},
   "outputs": [
    {
     "data": {
      "text/plain": [
       "'CREATE TABLE \"contrat\" (\\n\"id_contrat\" INTEGER,\\n  \"id_personne\" INTEGER,\\n  \"matricule_personne\" INTEGER,\\n  \"numero_full\" TEXT,\\n  \"date_embauche\" TIMESTAMP,\\n  \"rupture_contrat\" INTEGER,\\n  \"date_rupture_contrat\" TIMESTAMP,\\n  \"emploi\" TEXT\\n)\\nCREATE TABLE \"formule\" (\\n\"id_formule\" INTEGER,\\n  \"id_rubrique\" INTEGER,\\n  \"nom_alias\" TEXT,\\n  \"designation\" TEXT\\n)\\nCREATE TABLE \"historique\" (\\n\"id_personne\" INTEGER,\\n  \"id_contrat\" INTEGER,\\n  \"annee\" INTEGER,\\n  \"mois\" INTEGER,\\n  \"id_rubrique\" INTEGER,\\n  \"id_formule\" INTEGER,\\n  \"etablissement\" TEXT,\\n  \"section\" TEXT,\\n  \"valeur\" REAL\\n)\\nCREATE TABLE \"personne\" (\\n\"id_personne\" INTEGER,\\n  \"matricule_personne\" INTEGER,\\n  \"nom\" TEXT,\\n  \"prenom\" TEXT,\\n  \"sexe\" INTEGER,\\n  \"date_naissance\" TEXT,\\n  \"code_postal\" TEXT,\\n  \"ville\" TEXT,\\n  \"type_salarie\" INTEGER\\n)\\nCREATE TABLE \"rubrique\" (\\n\"id_rubrique\" INTEGER,\\n  \"nom_alias\" TEXT,\\n  \"designation\" TEXT,\\n  \"nom_classe_designation\" TEXT\\n)'"
      ]
     },
     "execution_count": 2,
     "metadata": {},
     "output_type": "execute_result"
    }
   ],
   "source": [
    "\"\\n\".join([row[0] for row in conn.execute(\"SELECT sql FROM sqlite_master WHERE type='table'\")])"
   ]
  },
  {
   "cell_type": "code",
   "execution_count": 3,
   "id": "da20c71a",
   "metadata": {},
   "outputs": [],
   "source": [
    "tables = [row[0] for row in cursor.execute(\"SELECT name FROM sqlite_master WHERE type='table'\")]\n",
    "\n",
    "relations = []\n",
    "\n",
    "for table in tables:\n",
    "    cursor.execute(f\"PRAGMA foreign_key_list('{table}')\")\n",
    "    for row in cursor.fetchall():\n",
    "        relations.append({\n",
    "            \"from_table\": table,\n",
    "            \"from_column\": row[3],  # colonne dans la table courante\n",
    "            \"to_table\": row[2],     # table référencée\n",
    "            \"to_column\": row[4]     # colonne dans la table référencée\n",
    "        })\n",
    "\n",
    "for rel in relations:\n",
    "    print(f\"{rel['from_table']}.{rel['from_column']} → {rel['to_table']}.{rel['to_column']}\")"
   ]
  },
  {
   "cell_type": "code",
   "execution_count": null,
   "id": "6d9b495d",
   "metadata": {},
   "outputs": [],
   "source": []
  }
 ],
 "metadata": {
  "kernelspec": {
   "display_name": "eig",
   "language": "python",
   "name": "python3"
  },
  "language_info": {
   "codemirror_mode": {
    "name": "ipython",
    "version": 3
   },
   "file_extension": ".py",
   "mimetype": "text/x-python",
   "name": "python",
   "nbconvert_exporter": "python",
   "pygments_lexer": "ipython3",
   "version": "3.10.16"
  }
 },
 "nbformat": 4,
 "nbformat_minor": 5
}
